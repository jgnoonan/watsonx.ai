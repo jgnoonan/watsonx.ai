{
    "cells": [
        {
            "metadata": {},
            "cell_type": "markdown",
            "source": "![image](https://raw.githubusercontent.com/IBM/watson-machine-learning-samples/master/cloud/notebooks/headers/watsonx-Prompt_Lab-Notebook.png)\n# Prompt Notebook - Prompt Lab Notebook v1.0.0\nThis notebook contains steps and code to demonstrate inferencing of prompts\ngenerated in Prompt Lab in watsonx.ai. It introduces Python API commands\nfor authentication using API key and prompt inferencing using WML API.\n\n**Note:** Notebook code generated using Prompt Lab will execute successfully.\nIf code is modified or reordered, there is no guarantee it will successfully execute.\nFor details, see: [Saving your work in Prompt Lab as a notebook](/docs).\n\nSome familiarity with Python is helpful. This notebook uses Python 3.10.\n\n## Notebook goals\nThe learning goals of this notebook are:\n\n* Creating an access token from the IBM Cloud personal API key\n* Defining a Python class for calling the WML Foundation Model inferencing API\n* Using the class to generate output from a provided text input\n\n# Setup\n\n## Inferencing class\nThis cell defines a class that makes a REST API call to the watsonx Foundation Model\ninferencing API that we will use to generate output from the provided input.\nThe class takes the access token created in the previous step, and uses it to\nmake a REST API call with input, model id and model parameters. The response\nfrom the API call is returned as the cell output."
        },
        {
            "metadata": {},
            "cell_type": "code",
            "source": "import requests\n\nclass Prompt:\n    def __init__(self, access_token, project_id):\n        self.access_token = access_token\n        self.project_id = project_id\n\n    def generate(self, input, model_id, parameters):\n        wml_url = \"https://us-south.ml.cloud.ibm.com/ml/v1-beta/generation/text?version=2023-05-28\"\n        Headers = {\n            \"Authorization\": \"Bearer \" + self.access_token,\n            \"Content-Type\": \"application/json\",\n            \"Accept\": \"application/json\"\n        }\n        data = {\n            \"model_id\": model_id,\n            \"input\": input,\n            \"parameters\": parameters,\n            \"project_id\": self.project_id\n        }\n        response = requests.post(wml_url, json=data, headers=Headers)\n        if response.status_code == 200:\n            return response.json()[\"results\"][0][\"generated_text\"]\n        else:\n            return response.text",
            "execution_count": 1,
            "outputs": []
        },
        {
            "metadata": {},
            "cell_type": "markdown",
            "source": "## watsonx API connection\nThis cell defines the credentials required to work with watsonx API for Foundation\nModel inferencing.\n\n**Action:** Provide the IBM Cloud personal API key. For details, see\n[documentation](https://cloud.ibm.com/docs/account?topic=account-userapikey&interface=ui)."
        },
        {
            "metadata": {},
            "cell_type": "code",
            "source": "from ibm_cloud_sdk_core import IAMTokenManager\nfrom ibm_cloud_sdk_core.authenticators import IAMAuthenticator, BearerTokenAuthenticator\nimport os, getpass\n\naccess_token = IAMTokenManager(\n    apikey = getpass.getpass(\"Please enter your api key (hit enter): \"),\n    url = \"https://iam.cloud.ibm.com/identity/token\"\n).get_token()",
            "execution_count": 2,
            "outputs": [
                {
                    "output_type": "stream",
                    "name": "stdout",
                    "text": "Please enter your api key (hit enter): \u00b7\u00b7\u00b7\u00b7\u00b7\u00b7\u00b7\u00b7\n"
                }
            ]
        },
        {
            "metadata": {},
            "cell_type": "markdown",
            "source": "# Inferencing\nThis cell demonstrated how we can use the defined class as well as the\ncreated access token to pair it with model id, parameters and input string\nto obtain the response from the the selected foundation model.\n\n## Defining the model id\nWe need to specify model id that will be used for inferencing:"
        },
        {
            "metadata": {},
            "cell_type": "code",
            "source": "model_id = \"ibm/mpt-7b-instruct2\"\n",
            "execution_count": 3,
            "outputs": []
        },
        {
            "metadata": {},
            "cell_type": "markdown",
            "source": "## Defining the model parameters\nWe need to provide a set of model parameters that will influence the\nresult:"
        },
        {
            "metadata": {},
            "cell_type": "code",
            "source": "parameters = {\n    \"decoding_method\": \"greedy\",\n    \"max_new_tokens\": 200,\n    \"repetition_penalty\": 1\n}",
            "execution_count": 4,
            "outputs": []
        },
        {
            "metadata": {},
            "cell_type": "markdown",
            "source": "## Defining the project id\nThe API requires project id that provides the context for the call. We will obtain\nthe id from the project in which this notebook runs:"
        },
        {
            "metadata": {},
            "cell_type": "code",
            "source": "import os\n\nproject_id = os.environ[\"PROJECT_ID\"]",
            "execution_count": 5,
            "outputs": []
        },
        {
            "metadata": {},
            "cell_type": "markdown",
            "source": "## Defining the inferencing input\nFoundation model inferencing API accepts a natural language input that it will use\nto provide the natural language response. The API is sensitive to formatting. Input\nstructure, presence of training steps (one-shot, two-shot learning etc.), as well\nas phrasing all influence the final response and belongs to the emerging discipline of\nPrompt Engineering.\n\nLet us provide the input we got from the Prompt Lab:"
        },
        {
            "metadata": {},
            "cell_type": "code",
            "source": "prompt_input = \"\"\"Summarize the article\n\nInput:\nTo the dedicated and hardworking librarians of America:\n\nIn any democracy, the free exchange of ideas is an important part of making sure that citizens are informed, engaged and feel like their perspectives matter.\n\nIt\u2019s so important, in fact, that here in America, the First Amendment of our Constitution states that freedom begins with our capacity to share and access ideas \u2014 even, and maybe especially, the ones we disagree with.\n\nMore often than not, someone decides to write those ideas down in a book.\n\nBooks have always shaped how I experience the world. Writers like Mark Twain and Toni Morrison, Walt Whitman and James Baldwin taught me something essential about our country\u2019s character. Reading about people whose lives were very different from mine showed me how to step into someone else\u2019s shoes. And the simple act of writing helped me develop my own identity \u2014 all of which would prove vital as a citizen, as a community organizer, and as president.\n\nToday, some of the books that shaped my life \u2014 and the lives of so many others \u2014 are being challenged by people who disagree with certain ideas or perspectives. It\u2019s no coincidence that these \u201cbanned books\u201d are often written by or feature people of color, indigenous people, and members of the LGBTQ+ community \u2014 though there have also been unfortunate instances in which books by conservative authors or books containing \u201ctriggering\u201d words or scenes have been targets for removal. Either way, the impulse seems to be to silence, rather than engage, rebut, learn from or seek to understand views that don\u2019t fit our own.\n\nI believe such an approach is profoundly misguided, and contrary to what has made this country great. As I\u2019ve said before, not only is it important for young people from all walks of life to see themselves represented in the pages of books, but it\u2019s also important for all of us to engage with different ideas and points of view.\n\nIt\u2019s also important to understand that the world is watching. If America \u2014 a nation built on freedom of expression \u2014 allows certain voices and ideas to be silenced, why should other countries go out of their way to protect them? Ironically, it is Christian and other religious texts \u2014 the sacred texts that some calling for book bannings in this country claim to want to defend \u2014 that have often been the first target of censorship and book banning efforts in authoritarian countries.\n\nNobody understands that more than you, our nation\u2019s librarians. In a very real sense, you\u2019re on the front lines \u2014 fighting every day to make the widest possible range of viewpoints, opinions, and ideas available to everyone. Your dedication and professional expertise allow us to freely read and consider information and ideas, and decide for ourselves which ones we agree with.\n\nThat\u2019s why I want to take a moment to thank all of you for the work you do every day \u2014 work that is helping us understand each other and embrace our shared humanity.\n\nAnd it\u2019s not just about books. You also provide spaces where people can come together, share ideas, participate in community programs, and access essential civic and educational resources. Together, you help people become informed and active citizens, capable of making this country what they want it to be.\n\nAnd you do it all in a harsh political climate where, all too often, you\u2019re attacked by people who either cannot or will not understand the vital \u2014 and uniquely American \u2014 role you play in the life of our nation.\n\nSo whether you just started working at a school or public library, or you\u2019ve been there your entire career, Michelle and I want to thank you for your unwavering commitment to the freedom to read. All of us owe you a debt of gratitude for making sure readers across the country have access to a wide range of books, and all the ideas they contain.\n\nFinally, to every citizen reading this, I hope you\u2019ll join me in reminding anyone who will listen \u2014 and even some people you think might not \u2014 that the free, robust exchange of ideas has always been at the heart of American democracy. Together, we can make that true for generations to come.\n\nOutput:\nLibrarians are at the front lines of defending our Constitutional right to free speech.  They ensure that libraries carry books that cover a broad spectrum of thought, even if we may not agree with the thoughts expressed in some of the books.  They should be thanked for the tireless work they do.\n\nInput:\nTo the dedicated and hardworking librarians of America:\n\nIn any democracy, the free exchange of ideas is an important part of making sure that citizens are informed, engaged and feel like their perspectives matter.\n\nIt\u2019s so important, in fact, that here in America, the First Amendment of our Constitution states that freedom begins with our capacity to share and access ideas \u2014 even, and maybe especially, the ones we disagree with.\n\nMore often than not, someone decides to write those ideas down in a book.\n\nBooks have always shaped how I experience the world. Writers like Mark Twain and Toni Morrison, Walt Whitman and James Baldwin taught me something essential about our country\u2019s character. Reading about people whose lives were very different from mine showed me how to step into someone else\u2019s shoes. And the simple act of writing helped me develop my own identity \u2014 all of which would prove vital as a citizen, as a community organizer, and as president.\n\nToday, some of the books that shaped my life \u2014 and the lives of so many others \u2014 are being challenged by people who disagree with certain ideas or perspectives. It\u2019s no coincidence that these \u201cbanned books\u201d are often written by or feature people of color, indigenous people, and members of the LGBTQ+ community \u2014 though there have also been unfortunate instances in which books by conservative authors or books containing \u201ctriggering\u201d words or scenes have been targets for removal. Either way, the impulse seems to be to silence, rather than engage, rebut, learn from or seek to understand views that don\u2019t fit our own.\n\nI believe such an approach is profoundly misguided, and contrary to what has made this country great. As I\u2019ve said before, not only is it important for young people from all walks of life to see themselves represented in the pages of books, but it\u2019s also important for all of us to engage with different ideas and points of view.\n\nIt\u2019s also important to understand that the world is watching. If America \u2014 a nation built on freedom of expression \u2014 allows certain voices and ideas to be silenced, why should other countries go out of their way to protect them? Ironically, it is Christian and other religious texts \u2014 the sacred texts that some calling for book bannings in this country claim to want to defend \u2014 that have often been the first target of censorship and book banning efforts in authoritarian countries.\n\nNobody understands that more than you, our nation\u2019s librarians. In a very real sense, you\u2019re on the front lines \u2014 fighting every day to make the widest possible range of viewpoints, opinions, and ideas available to everyone. Your dedication and professional expertise allow us to freely read and consider information and ideas, and decide for ourselves which ones we agree with.\n\nThat\u2019s why I want to take a moment to thank all of you for the work you do every day \u2014 work that is helping us understand each other and embrace our shared humanity.\n\nAnd it\u2019s not just about books. You also provide spaces where people can come together, share ideas, participate in community programs, and access essential civic and educational resources. Together, you help people become informed and active citizens, capable of making this country what they want it to be.\n\nAnd you do it all in a harsh political climate where, all too often, you\u2019re attacked by people who either cannot or will not understand the vital \u2014 and uniquely American \u2014 role you play in the life of our nation.\n\nSo whether you just started working at a school or public library, or you\u2019ve been there your entire career, Michelle and I want to thank you for your unwavering commitment to the freedom to read. All of us owe you a debt of gratitude for making sure readers across the country have access to a wide range of books, and all the ideas they contain.\n\nFinally, to every citizen reading this, I hope you\u2019ll join me in reminding anyone who will listen \u2014 and even some people you think might not \u2014 that the free, robust exchange of ideas has always been at the heart of American democracy. Together, we can make that true for generations to come.\n\nOutput:\n\"\"\"",
            "execution_count": 6,
            "outputs": []
        },
        {
            "metadata": {},
            "cell_type": "markdown",
            "source": "## Execution\nLet us now use the defined variables to create an instance of the class\nwe defined previously and get the response from the selected foundation model:"
        },
        {
            "metadata": {},
            "cell_type": "code",
            "source": "prompt = Prompt(access_token, project_id)\n\nprompt.generate(prompt_input, model_id, parameters)",
            "execution_count": 7,
            "outputs": [
                {
                    "output_type": "execute_result",
                    "execution_count": 7,
                    "data": {
                        "text/plain": "'Librarians are at the front lines of defending our Constitutional right to free speech.  They ensure that libraries carry books that cover a broad spectrum of thought, even if we may not agree with the thoughts expressed in some of the books.  They should be thanked for the tireless work they do.'"
                    },
                    "metadata": {}
                }
            ]
        },
        {
            "metadata": {},
            "cell_type": "markdown",
            "source": "# Next steps\nYou successfully completed this notebook! You learned how to use\nwatsonx.ai inferencing API to generate response from the foundation model\nbased on the provided input, model id and model parameters. Check out the\nofficial watsonx.ai site for more samples, tutorials, documentation, how-tos, and blog posts.\n\n<a id=\"copyrights\"></a>\n### Copyrights\n\nLicensed Materials - Copyright \u00a9 2023 IBM. This notebook and its source code are released under the terms of the ILAN License.\nUse, duplication disclosure restricted by GSA ADP Schedule Contract with IBM Corp.\n\n**Note:** The auto-generated notebooks are subject to the International License Agreement for Non-Warranted Programs (or equivalent) and License Information document for Watson Studio Auto-generated Notebook (License Terms), such agreements located in the link below. Specifically, the Source Components and Sample Materials clause included in the License Information document for Watson Studio Auto-generated Notebook applies to the auto-generated notebooks.  \n\nBy downloading, copying, accessing, or otherwise using the materials, you agree to the <a href=\"http://www14.software.ibm.com/cgi-bin/weblap/lap.pl?li_formnum=L-AMCU-BYC7LF\">License Terms</a>  "
        }
    ],
    "metadata": {
        "kernelspec": {
            "name": "python3",
            "display_name": "Python 3.10",
            "language": "python"
        },
        "language_info": {
            "name": "python",
            "version": "3.10.9",
            "mimetype": "text/x-python",
            "codemirror_mode": {
                "name": "ipython",
                "version": 3
            },
            "pygments_lexer": "ipython3",
            "nbconvert_exporter": "python",
            "file_extension": ".py"
        }
    },
    "nbformat": 4,
    "nbformat_minor": 1
}