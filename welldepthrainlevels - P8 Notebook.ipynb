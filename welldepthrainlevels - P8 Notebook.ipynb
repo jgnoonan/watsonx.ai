{
    "cells": [
        {
            "metadata": {},
            "cell_type": "markdown",
            "source": "![image](https://github.com/IBM/watson-machine-learning-samples/raw/master/cloud/notebooks/headers/AutoAI-Banner_Pipeline-Notebook.png)\n# Pipeline 8 Notebook - AutoAI Notebook v1.19.3\n\nConsider these tips for working with an auto-generated notebook:\n- Notebook code generated using AutoAI will execute successfully. If you modify the notebook, we cannot guarantee it will run successfully.\n- This pipeline is optimized for the original data set. The pipeline might fail or produce sub-optimal results if used with different data.  If you want to use a different data set, consider retraining the AutoAI experiment to generate a new pipeline. For more information, see <a href=\"https://dataplatform.cloud.ibm.com/docs/content/wsj/analyze-data/autoai-notebook.html\">Cloud Platform</a>. \n- Before modifying the pipeline or trying to re-fit the pipeline, consider that the code converts dataframes to numpy arrays before fitting the pipeline (a current restriction of the preprocessor pipeline).\n"
        },
        {
            "metadata": {},
            "cell_type": "markdown",
            "source": "<a id=\"content\"></a>\n## Notebook content\n\nThis notebook contains a Scikit-learn representation of AutoAI pipeline. This notebook introduces commands for retrieving data, training the model, and testing the model. \n\nSome familiarity with Python is helpful. This notebook uses Python 3.10 and scikit-learn 1.1.1."
        },
        {
            "metadata": {
                "pycharm": {
                    "name": "#%% md\n"
                }
            },
            "cell_type": "markdown",
            "source": "## Notebook goals\n\n-  Scikit-learn pipeline definition\n-  Pipeline training \n-  Pipeline evaluation\n\n## Contents\n\nThis notebook contains the following parts:\n\n**[Setup](#setup)**<br>\n&nbsp;&nbsp;[Package installation](#install)<br>\n&nbsp;&nbsp;[AutoAI experiment metadata](#variables_definition)<br>\n&nbsp;&nbsp;[Watson Machine Learning connection](#connection)<br>\n**[Pipeline inspection](#inspection)** <br>\n&nbsp;&nbsp;[Read training data](#read)<br>\n&nbsp;&nbsp;[Train and test data split](#split)<br>\n&nbsp;&nbsp;[Create pipeline](#preview_model_to_python_code)<br>\n&nbsp;&nbsp;[Train pipeline model](#train)<br>\n&nbsp;&nbsp;[Test pipeline model](#test_model)<br>\n**[Store the model](#saving)**<br>\n**[Summary and next steps](#summary_and_next_steps)**<br>\n**[Copyrights](#copyrights)**"
        },
        {
            "metadata": {},
            "cell_type": "markdown",
            "source": "<a id=\"setup\"></a>\n# Setup"
        },
        {
            "metadata": {},
            "cell_type": "markdown",
            "source": "<a id=\"install\"></a>\n## Package installation\nBefore you use the sample code in this notebook, install the following packages:\n - ibm_watson_machine_learning,\n - autoai-libs,\n - scikit-learn\n"
        },
        {
            "metadata": {
                "execution": {
                    "iopub.execute_input": "2020-10-12T14:00:45.009458Z",
                    "iopub.status.busy": "2020-10-12T14:00:45.007968Z",
                    "iopub.status.idle": "2020-10-12T14:00:46.037702Z",
                    "shell.execute_reply": "2020-10-12T14:00:46.038270Z"
                },
                "pycharm": {
                    "name": "#%%\n"
                },
                "scrolled": true
            },
            "cell_type": "code",
            "source": "!pip install ibm-watson-machine-learning | tail -n 1\n!pip install autoai-libs==1.14.13 | tail -n 1\n!pip install scikit-learn==1.1.1 | tail -n 1",
            "execution_count": null,
            "outputs": []
        },
        {
            "metadata": {},
            "cell_type": "markdown",
            "source": "<a id=\"variables_definition\"></a>\n## AutoAI experiment metadata\nThe following cell contains the training data connection details.  \n**Note**: The connection might contain authorization credentials, so be careful when sharing the notebook."
        },
        {
            "metadata": {
                "execution": {
                    "iopub.execute_input": "2020-10-12T14:00:49.797633Z",
                    "iopub.status.busy": "2020-10-12T14:00:49.796778Z",
                    "iopub.status.idle": "2020-10-12T14:00:57.182715Z",
                    "shell.execute_reply": "2020-10-12T14:00:57.183132Z"
                },
                "pycharm": {
                    "is_executing": true
                }
            },
            "cell_type": "code",
            "source": "from ibm_watson_machine_learning.helpers import DataConnection\nfrom ibm_watson_machine_learning.helpers import ContainerLocation\n\ntraining_data_references = [\n    DataConnection(\n        data_asset_id='4d939f41-8c05-4e9b-919f-77e46910ce0b'\n    ),\n]\ntraining_result_reference = DataConnection(\n    location=ContainerLocation(\n        path='auto_ml/7676140b-cf4c-4414-810d-e84b622d344f/wml_data/6020e591-cf6d-4830-9ddb-8ceffb6748cb/data/automl',\n        model_location='auto_ml/7676140b-cf4c-4414-810d-e84b622d344f/wml_data/6020e591-cf6d-4830-9ddb-8ceffb6748cb/data/automl/model.zip',\n        training_status='auto_ml/7676140b-cf4c-4414-810d-e84b622d344f/wml_data/6020e591-cf6d-4830-9ddb-8ceffb6748cb/training-status.json'\n    )\n)",
            "execution_count": null,
            "outputs": []
        },
        {
            "metadata": {},
            "cell_type": "markdown",
            "source": "The following cell contains input parameters provided to run the AutoAI experiment in Watson Studio."
        },
        {
            "metadata": {
                "execution": {
                    "iopub.execute_input": "2020-10-12T14:00:57.187305Z",
                    "iopub.status.busy": "2020-10-12T14:00:57.186602Z",
                    "iopub.status.idle": "2020-10-12T14:00:57.188392Z",
                    "shell.execute_reply": "2020-10-12T14:00:57.188878Z"
                },
                "pycharm": {
                    "name": "#%%\n"
                }
            },
            "cell_type": "code",
            "source": "experiment_metadata = dict(\n    prediction_type='regression',\n    prediction_column='Max Depth',\n    holdout_size=0.1,\n    scoring='neg_root_mean_squared_error',\n    csv_separator=',',\n    random_state=33,\n    max_number_of_estimators=2,\n    training_data_references=training_data_references,\n    training_result_reference=training_result_reference,\n    deployment_url='https://us-south.ml.cloud.ibm.com',\n    project_id='fb1f25ac-c832-47fa-acb2-b08835928f81',\n    drop_duplicates=True,\n    include_batched_ensemble_estimators=[]\n)",
            "execution_count": null,
            "outputs": []
        },
        {
            "metadata": {},
            "cell_type": "markdown",
            "source": "## Set `n_jobs` parameter to the number of available CPUs"
        },
        {
            "metadata": {},
            "cell_type": "code",
            "source": "import os, ast\nCPU_NUMBER = 1\nif 'RUNTIME_HARDWARE_SPEC' in os.environ:\n    CPU_NUMBER = int(ast.literal_eval(os.environ['RUNTIME_HARDWARE_SPEC'])['num_cpu'])",
            "execution_count": null,
            "outputs": []
        },
        {
            "metadata": {},
            "cell_type": "markdown",
            "source": "<a id=\"connection\"></a>\n## Watson Machine Learning connection\n\nThis cell defines the credentials required to work with the Watson Machine Learning service.\n\n**Action**: Provide the IBM Cloud apikey, For details, see [documentation](https://cloud.ibm.com/docs/account?topic=account-userapikey)."
        },
        {
            "metadata": {},
            "cell_type": "code",
            "source": "api_key = 'qncq6qPa7H8BA_FBhTlGupHsf0NYtRpJSD2QVJqTvdVz'",
            "execution_count": null,
            "outputs": []
        },
        {
            "metadata": {},
            "cell_type": "code",
            "source": "wml_credentials = {\n    \"apikey\": api_key,\n    \"url\": experiment_metadata['deployment_url']\n}",
            "execution_count": null,
            "outputs": []
        },
        {
            "metadata": {},
            "cell_type": "code",
            "source": "from ibm_watson_machine_learning import APIClient\n\nwml_client = APIClient(wml_credentials)\n\nif 'space_id' in experiment_metadata:\n    wml_client.set.default_space(experiment_metadata['space_id'])\nelse:\n    wml_client.set.default_project(experiment_metadata['project_id'])\n    \ntraining_data_references[0].set_client(wml_client)",
            "execution_count": null,
            "outputs": []
        },
        {
            "metadata": {},
            "cell_type": "markdown",
            "source": "<a id=\"inspection\"></a>\n# Pipeline inspection"
        },
        {
            "metadata": {},
            "cell_type": "markdown",
            "source": "<a id=\"read\"></a>\n## Read training data\n\nRetrieve training dataset from AutoAI experiment as pandas DataFrame.\n\n**Note**: If reading data results in an error, provide data as Pandas DataFrame object, for example, reading .CSV file with `pandas.read_csv()`. \n\nIt may be necessary to use methods for initial data pre-processing like: e.g. `DataFrame.dropna()`, `DataFrame.drop_duplicates()`, `DataFrame.sample()`, and outliers handling:\n\n```\nfrom autoai_libs.utils.outliers_mitigation import remove_outliers\n\ndf = remove_outliers(df, columns=[experiment_metadata['prediction_column']])\n```\n"
        },
        {
            "metadata": {
                "execution": {
                    "iopub.execute_input": "2020-10-12T14:01:16.076169Z",
                    "iopub.status.busy": "2020-10-12T14:01:16.075589Z",
                    "iopub.status.idle": "2020-10-12T14:01:19.190233Z",
                    "shell.execute_reply": "2020-10-12T14:01:19.190807Z"
                },
                "pycharm": {
                    "is_executing": true,
                    "name": "#%%\n"
                }
            },
            "cell_type": "code",
            "source": "train_X, test_X, train_y, test_y = training_data_references[0].read(experiment_metadata=experiment_metadata, with_holdout_split=True, use_flight=False)",
            "execution_count": null,
            "outputs": []
        },
        {
            "metadata": {
                "pycharm": {
                    "name": "#%% md\n"
                }
            },
            "cell_type": "markdown",
            "source": "<a id=\"preview_model_to_python_code\"></a>\n## Create pipeline\nIn the next cell, you can find the Scikit-learn definition of the selected AutoAI pipeline."
        },
        {
            "metadata": {
                "pycharm": {
                    "name": "#%% md\n"
                }
            },
            "cell_type": "markdown",
            "source": "#### Import statements."
        },
        {
            "metadata": {
                "pycharm": {
                    "is_executing": true,
                    "name": "#%%\n"
                }
            },
            "cell_type": "code",
            "source": "from autoai_libs.transformers.exportable import ColumnSelector\nfrom autoai_libs.transformers.date_time.date_time_transformer import (\n    DateTransformer,\n)\nfrom autoai_libs.transformers.exportable import NumpyColumnSelector\nfrom autoai_libs.transformers.exportable import CompressStrings\nfrom autoai_libs.transformers.exportable import NumpyReplaceMissingValues\nfrom autoai_libs.transformers.exportable import NumpyReplaceUnknownValues\nfrom autoai_libs.transformers.exportable import boolean2float\nfrom autoai_libs.transformers.exportable import CatImputer\nfrom autoai_libs.transformers.exportable import CatEncoder\nimport numpy as np\nfrom autoai_libs.transformers.exportable import float32_transform\nfrom sklearn.pipeline import make_pipeline\nfrom autoai_libs.transformers.exportable import FloatStr2Float\nfrom autoai_libs.transformers.exportable import NumImputer\nfrom autoai_libs.transformers.exportable import OptStandardScaler\nfrom sklearn.pipeline import make_union\nfrom autoai_libs.transformers.exportable import NumpyPermuteArray\nfrom autoai_libs.cognito.transforms.transform_utils import TA1\nimport autoai_libs.utils.fc_methods\nfrom autoai_libs.cognito.transforms.transform_utils import FS1\nfrom autoai_libs.cognito.transforms.transform_utils import TA2\nfrom sklearn.linear_model import LinearRegression",
            "execution_count": null,
            "outputs": []
        },
        {
            "metadata": {},
            "cell_type": "markdown",
            "source": "#### Pre-processing & Estimator."
        },
        {
            "metadata": {
                "pycharm": {
                    "is_executing": true,
                    "name": "#%%\n"
                }
            },
            "cell_type": "code",
            "source": "column_selector_0 = ColumnSelector(columns_indices_list=[2, 3])\ndate_transformer_0 = DateTransformer(\n    column_headers_list=[\"Date\", \"Max Rain\"],\n    missing_values_reference_list=[\"?\", \"\", \"-\", float(\"nan\")],\n    options=[\"all\"],\n)\nnumpy_column_selector_0 = NumpyColumnSelector(columns=[2, 3, 6, 7])\ncompress_strings = CompressStrings(\n    compress_type=\"hash\",\n    dtypes_list=[\"int_num\", \"int_num\", \"int_num\", \"int_num\"],\n    missing_values_reference_list=[\"\", \"-\", \"?\", float(\"nan\")],\n    misslist_list=[[], [], [], []],\n)\nnumpy_replace_missing_values_0 = NumpyReplaceMissingValues(\n    missing_values=[], filling_values=float(\"nan\")\n)\nnumpy_replace_unknown_values = NumpyReplaceUnknownValues(\n    filling_values=float(\"nan\"),\n    filling_values_list=[\n        float(\"nan\"), float(\"nan\"), float(\"nan\"), float(\"nan\"),\n    ],\n    missing_values_reference_list=[\"\", \"-\", \"?\", float(\"nan\")],\n)\ncat_imputer = CatImputer(\n    missing_values=float(\"nan\"),\n    sklearn_version_family=\"1\",\n    strategy=\"most_frequent\",\n)\ncat_encoder = CatEncoder(\n    encoding=\"ordinal\",\n    categories=\"auto\",\n    dtype=np.float64,\n    handle_unknown=\"error\",\n    sklearn_version_family=\"1\",\n)\npipeline_0 = make_pipeline(\n    column_selector_0,\n    date_transformer_0,\n    numpy_column_selector_0,\n    compress_strings,\n    numpy_replace_missing_values_0,\n    numpy_replace_unknown_values,\n    boolean2float(),\n    cat_imputer,\n    cat_encoder,\n    float32_transform(),\n)\ncolumn_selector_1 = ColumnSelector(columns_indices_list=[2, 3])\ndate_transformer_1 = DateTransformer(\n    column_headers_list=[\"Date\", \"Max Rain\"],\n    missing_values_reference_list=[\"?\", \"\", \"-\", float(\"nan\")],\n    options=[\"all\"],\n)\nnumpy_column_selector_1 = NumpyColumnSelector(columns=[0, 1, 4, 5])\nfloat_str2_float = FloatStr2Float(\n    dtypes_list=[\"float_num\", \"float_int_num\", \"int_num\", \"int_num\"],\n    missing_values_reference_list=[],\n)\nnumpy_replace_missing_values_1 = NumpyReplaceMissingValues(\n    missing_values=[], filling_values=float(\"nan\")\n)\nnum_imputer = NumImputer(missing_values=float(\"nan\"), strategy=\"median\")\nopt_standard_scaler = OptStandardScaler(use_scaler_flag=False)\npipeline_1 = make_pipeline(\n    column_selector_1,\n    date_transformer_1,\n    numpy_column_selector_1,\n    float_str2_float,\n    numpy_replace_missing_values_1,\n    num_imputer,\n    opt_standard_scaler,\n    float32_transform(),\n)\nunion = make_union(pipeline_0, pipeline_1)\nnumpy_permute_array = NumpyPermuteArray(\n    axis=0, permutation_indices=[2, 3, 6, 7, 0, 1, 4, 5]\n)\nta1 = TA1(\n    fun=np.sqrt,\n    name=\"sqrt\",\n    datatypes=[\"numeric\"],\n    feat_constraints=[\n        autoai_libs.utils.fc_methods.is_non_negative,\n        autoai_libs.utils.fc_methods.is_not_categorical,\n    ],\n    col_names=[\n        \"Max Rain\", \"NewDateFeature_0_FloatTimestamp(Date)\",\n        \"NewDateFeature_1_Year(Date)\", \"NewDateFeature_2_Month(Date)\",\n        \"NewDateFeature_3_Week(Date)\", \"NewDateFeature_4_DayOfYear(Date)\",\n        \"NewDateFeature_5_DayOfMonth(Date)\",\n        \"NewDateFeature_6_DayOfWeek(Date)\",\n    ],\n    col_dtypes=[\n        np.dtype(\"float32\"), np.dtype(\"float32\"), np.dtype(\"float32\"),\n        np.dtype(\"float32\"), np.dtype(\"float32\"), np.dtype(\"float32\"),\n        np.dtype(\"float32\"), np.dtype(\"float32\"),\n    ],\n)\nfs1_0 = FS1(\n    cols_ids_must_keep=range(0, 8),\n    additional_col_count_to_keep=8,\n    ptype=\"regression\",\n)\nta2 = TA2(\n    fun=np.multiply,\n    name=\"product\",\n    datatypes1=[\n        \"intc\", \"intp\", \"int_\", \"uint8\", \"uint16\", \"uint32\", \"uint64\", \"int8\",\n        \"int16\", \"int32\", \"int64\", \"short\", \"long\", \"longlong\", \"float16\",\n        \"float32\", \"float64\",\n    ],\n    feat_constraints1=[autoai_libs.utils.fc_methods.is_not_categorical],\n    datatypes2=[\n        \"intc\", \"intp\", \"int_\", \"uint8\", \"uint16\", \"uint32\", \"uint64\", \"int8\",\n        \"int16\", \"int32\", \"int64\", \"short\", \"long\", \"longlong\", \"float16\",\n        \"float32\", \"float64\",\n    ],\n    feat_constraints2=[autoai_libs.utils.fc_methods.is_not_categorical],\n    col_names=[\n        \"Max Rain\", \"NewDateFeature_0_FloatTimestamp(Date)\",\n        \"NewDateFeature_1_Year(Date)\", \"NewDateFeature_2_Month(Date)\",\n        \"NewDateFeature_3_Week(Date)\", \"NewDateFeature_4_DayOfYear(Date)\",\n        \"NewDateFeature_5_DayOfMonth(Date)\",\n        \"NewDateFeature_6_DayOfWeek(Date)\", \"sqrt(Max Rain)\",\n        \"sqrt(NewDateFeature_0_FloatTimestamp(Date))\",\n        \"sqrt(NewDateFeature_3_Week(Date))\",\n        \"sqrt(NewDateFeature_4_DayOfYear(Date))\",\n        \"sqrt(NewDateFeature_5_DayOfMonth(Date))\",\n    ],\n    col_dtypes=[\n        np.dtype(\"float32\"), np.dtype(\"float32\"), np.dtype(\"float32\"),\n        np.dtype(\"float32\"), np.dtype(\"float32\"), np.dtype(\"float32\"),\n        np.dtype(\"float32\"), np.dtype(\"float32\"), np.dtype(\"float32\"),\n        np.dtype(\"float32\"), np.dtype(\"float32\"), np.dtype(\"float32\"),\n        np.dtype(\"float32\"),\n    ],\n)\nfs1_1 = FS1(\n    cols_ids_must_keep=range(0, 8),\n    additional_col_count_to_keep=8,\n    ptype=\"regression\",\n)\nlinear_regression = LinearRegression(n_jobs=CPU_NUMBER)\n",
            "execution_count": null,
            "outputs": []
        },
        {
            "metadata": {},
            "cell_type": "markdown",
            "source": "#### Pipeline."
        },
        {
            "metadata": {
                "pycharm": {
                    "is_executing": true,
                    "name": "#%%\n"
                }
            },
            "cell_type": "code",
            "source": "pipeline = make_pipeline(\n    union, numpy_permute_array, ta1, fs1_0, ta2, fs1_1, linear_regression\n)",
            "execution_count": null,
            "outputs": []
        },
        {
            "metadata": {},
            "cell_type": "markdown",
            "source": "<a id=\"train\"></a>\n## Train pipeline model\n"
        },
        {
            "metadata": {
                "pycharm": {
                    "name": "#%% md\n"
                }
            },
            "cell_type": "markdown",
            "source": "### Define scorer from the optimization metric\nThis cell constructs the cell scorer based on the experiment metadata."
        },
        {
            "metadata": {
                "pycharm": {
                    "is_executing": true,
                    "name": "#%%\n"
                }
            },
            "cell_type": "code",
            "source": "from sklearn.metrics import make_scorer\n\nfrom autoai_libs.scorers.scorers import neg_root_mean_squared_error\n\nscorer = make_scorer(neg_root_mean_squared_error)",
            "execution_count": null,
            "outputs": []
        },
        {
            "metadata": {
                "pycharm": {
                    "name": "#%% md\n"
                }
            },
            "cell_type": "markdown",
            "source": "<a id=\"test_model\"></a>\n### Fit pipeline model\nIn this cell, the pipeline is fitted."
        },
        {
            "metadata": {
                "execution": {
                    "iopub.execute_input": "2020-10-12T14:01:19.291734Z",
                    "iopub.status.busy": "2020-10-12T14:01:19.244735Z",
                    "iopub.status.idle": "2020-10-12T14:01:19.338461Z",
                    "shell.execute_reply": "2020-10-12T14:01:19.338958Z"
                },
                "pycharm": {
                    "is_executing": true,
                    "name": "#%%\n"
                },
                "scrolled": true
            },
            "cell_type": "code",
            "source": "pipeline.fit(train_X.values, train_y.values.ravel());",
            "execution_count": null,
            "outputs": []
        },
        {
            "metadata": {},
            "cell_type": "markdown",
            "source": "<a id=\"test_model\"></a>\n## Test pipeline model"
        },
        {
            "metadata": {
                "pycharm": {
                    "name": "#%% md\n"
                }
            },
            "cell_type": "markdown",
            "source": "Score the fitted pipeline with the generated scorer using the holdout dataset."
        },
        {
            "metadata": {
                "execution": {
                    "iopub.execute_input": "2020-10-12T14:02:03.910267Z",
                    "iopub.status.busy": "2020-10-12T14:02:03.909710Z",
                    "iopub.status.idle": "2020-10-12T14:02:03.914154Z",
                    "shell.execute_reply": "2020-10-12T14:02:03.914727Z"
                },
                "pycharm": {
                    "is_executing": true,
                    "name": "#%%\n"
                }
            },
            "cell_type": "code",
            "source": "score = scorer(pipeline, test_X.values, test_y.values)\nprint(score)",
            "execution_count": null,
            "outputs": []
        },
        {
            "metadata": {
                "pycharm": {
                    "name": "#%%\n"
                }
            },
            "cell_type": "code",
            "source": "pipeline.predict(test_X.values[:5])",
            "execution_count": null,
            "outputs": []
        },
        {
            "metadata": {},
            "cell_type": "markdown",
            "source": "<a id=\"saving\"></a>\n## Store the model\n\nIn this section you will learn how to store the trained model."
        },
        {
            "metadata": {},
            "cell_type": "code",
            "source": "model_metadata = {\n    wml_client.repository.ModelMetaNames.NAME: 'Trained AutoAI pipeline'\n}\n\nstored_model_details = wml_client.repository.store_model(model=pipeline, meta_props=model_metadata, experiment_metadata=experiment_metadata)",
            "execution_count": null,
            "outputs": []
        },
        {
            "metadata": {},
            "cell_type": "markdown",
            "source": "Inspect the stored model details."
        },
        {
            "metadata": {},
            "cell_type": "code",
            "source": "stored_model_details",
            "execution_count": null,
            "outputs": []
        },
        {
            "metadata": {},
            "cell_type": "markdown",
            "source": "<a id=\"summary_and_next_steps\"></a>\n# Summary and next steps\nYou successfully completed this notebook!\nYou learned how to use AutoAI pipeline definition to train the model.\nCheck out our [Online Documentation](https://www.ibm.com/cloud/watson-studio/autoai) for more samples, tutorials, documentation, how-tos, and blog posts."
        },
        {
            "metadata": {},
            "cell_type": "markdown",
            "source": "<a id=\"copyrights\"></a>\n### Copyrights\n\nLicensed Materials - Copyright \u00a9 2023 IBM. This notebook and its source code are released under the terms of the ILAN License. Use, duplication disclosure restricted by GSA ADP Schedule Contract with IBM Corp.\n\n**Note:** The auto-generated notebooks are subject to the International License Agreement for Non-Warranted Programs (or equivalent) and License Information document for Watson Studio Auto-generated Notebook (License Terms), such agreements located in the link below. Specifically, the Source Components and Sample Materials clause included in the License Information document for Watson Studio Auto-generated Notebook applies to the auto-generated notebooks.  \n\nBy downloading, copying, accessing, or otherwise using the materials, you agree to the <a href=\"http://www14.software.ibm.com/cgi-bin/weblap/lap.pl?li_formnum=L-AMCU-BYC7LF\">License Terms</a>\n\n___"
        }
    ],
    "metadata": {
        "kernelspec": {
            "name": "python3",
            "display_name": "Python 3.10",
            "language": "python"
        },
        "language_info": {
            "name": "python",
            "version": "3.10.9",
            "mimetype": "text/x-python",
            "codemirror_mode": {
                "name": "ipython",
                "version": 3
            },
            "pygments_lexer": "ipython3",
            "nbconvert_exporter": "python",
            "file_extension": ".py"
        }
    },
    "nbformat": 4,
    "nbformat_minor": 2
}